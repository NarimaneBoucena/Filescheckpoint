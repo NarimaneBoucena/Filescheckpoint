{
 "cells": [
  {
   "cell_type": "code",
   "execution_count": null,
   "id": "d8407343",
   "metadata": {},
   "outputs": [],
   "source": [
    "#Q1\n",
    "f=open(\"python.txt\", \"r\")\n",
    "#Q2\n",
    "L=f.readline(1)\n",
    "print(L)\n",
    "#Q3\n",
    "def read_lastnlines(fname,n):\n",
    "    with open('python.txt') as f:\n",
    "        for line in (f.readlines() [-n:]):\n",
    "            print(line)\n",
    "\n",
    "read_lastnlines('python.txt',3)\n",
    "#Q4\n",
    "def count_words(filepath):\n",
    "    with open(filepath) as f:\n",
    "        data = f.read()\n",
    "        data.replace(\",\", \" \")\n",
    "        return len(data.split(\" \"))\n",
    "print(count_words(\"python.txt\"))"
   ]
  }
 ],
 "metadata": {
  "kernelspec": {
   "display_name": "Python 3 (ipykernel)",
   "language": "python",
   "name": "python3"
  },
  "language_info": {
   "codemirror_mode": {
    "name": "ipython",
    "version": 3
   },
   "file_extension": ".py",
   "mimetype": "text/x-python",
   "name": "python",
   "nbconvert_exporter": "python",
   "pygments_lexer": "ipython3",
   "version": "3.9.12"
  }
 },
 "nbformat": 4,
 "nbformat_minor": 5
}
